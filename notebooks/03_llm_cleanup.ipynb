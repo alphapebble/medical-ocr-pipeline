{
 "cells": [
  {
   "cell_type": "markdown",
   "id": "9f28ffa8",
   "metadata": {},
   "source": [
    "\n",
    "# 03 — LLM Cleanup (Robust)\n",
    "\n",
    "Cleans a subset of noisy OCR blocks with a local Ollama model (with fallback).  \n",
    "Writes the model output to `text_llm` and a chosen `text_final` while preserving original text.\n"
   ]
  },
  {
   "cell_type": "code",
   "execution_count": 9,
   "id": "f51e978e",
   "metadata": {},
   "outputs": [],
   "source": [
    "\n",
    "# --- PARAMETERS (papermill can override) ---\n",
    "blocks_dir = \"outputs/run_001/02_cleaned\"\n",
    "output_dir = \"outputs/run_001/03_llmcleaned\"\n",
    "model = \"alibayram/medgemma:latest\"\n",
    "fallback_model = \"mistral:7b\"\n",
    "max_cleanups = 60\n",
    "per_file_cap = 30\n",
    "timeout_seconds = 40\n",
    "print_every = 10\n"
   ]
  },
  {
   "cell_type": "code",
   "execution_count": 10,
   "id": "79071990",
   "metadata": {},
   "outputs": [
    {
     "name": "stdout",
     "output_type": "stream",
     "text": [
      "[INFO] blocks_dir: /Users/balijepalli/Documents/GitHub/entheory-ai/notebooks/outputs/run_001/02_cleaned\n",
      "[INFO] output_dir: /Users/balijepalli/Documents/GitHub/entheory-ai/notebooks/outputs/run_001/03_llmcleaned\n"
     ]
    }
   ],
   "source": [
    "\n",
    "# --- IMPORTS & SETUP ---\n",
    "import os, re, json, time, concurrent.futures, requests, difflib\n",
    "from pathlib import Path\n",
    "from typing import List, Dict, Any, Tuple\n",
    "from collections import Counter\n",
    "\n",
    "from langchain.prompts import PromptTemplate\n",
    "try:\n",
    "    from langchain_ollama import ChatOllama\n",
    "except Exception:\n",
    "    from langchain_community.chat_models import ChatOllama\n",
    "from langchain.schema import StrOutputParser\n",
    "\n",
    "blocks_dir = Path(blocks_dir).expanduser().resolve()\n",
    "output_dir = Path(output_dir).expanduser().resolve()\n",
    "output_dir.mkdir(parents=True, exist_ok=True)\n",
    "print(\"[INFO] blocks_dir:\", blocks_dir)\n",
    "print(\"[INFO] output_dir:\", output_dir)\n"
   ]
  },
  {
   "cell_type": "code",
   "execution_count": 11,
   "id": "e93bbfa4",
   "metadata": {},
   "outputs": [
    {
     "name": "stdout",
     "output_type": "stream",
     "text": [
      "[INFO] Using source folder: /Users/balijepalli/Documents/GitHub/entheory-ai/notebooks/outputs/run_001/02_cleaned\n",
      "[INFO] Found 4 files via pattern 'page_*_blocks.domain.json'\n"
     ]
    }
   ],
   "source": [
    "\n",
    "# --- DISCOVER INPUT FILES ---\n",
    "def discover_source_folder(root: Path) -> Path:\n",
    "    if any(root.glob(\"page_*_*.json\")):\n",
    "        return root\n",
    "    for sub in [\"02_cleaned\", \"01_blocks\", \"03_llmcleaned\"]:\n",
    "        cand = root / sub\n",
    "        if cand.exists() and any(cand.glob(\"page_*_*.json\")):\n",
    "            return cand\n",
    "    return root\n",
    "\n",
    "src = discover_source_folder(blocks_dir)\n",
    "print(f\"[INFO] Using source folder: {src}\")\n",
    "patterns = [\"page_*_blocks.domain.json\", \"page_*_blocks.cleaned.json\", \"page_*_blocks.json\"]\n",
    "files = []\n",
    "for pat in patterns:\n",
    "    found = sorted(src.glob(pat))\n",
    "    if found:\n",
    "        files = found\n",
    "        print(f\"[INFO] Found {len(files)} files via pattern '{pat}'\")\n",
    "        break\n",
    "if not files:\n",
    "    raise FileNotFoundError(f\"No page_* block files found under {src}\")\n"
   ]
  },
  {
   "cell_type": "code",
   "execution_count": 12,
   "id": "877ca032",
   "metadata": {},
   "outputs": [],
   "source": [
    "\n",
    "# --- HELPERS ---\n",
    "def detect_lang_tag(s: str) -> str:\n",
    "    if any('\\u0900' <= c <= '\\u097F' for c in s): return \"hi\"\n",
    "    if any('\\u0C00' <= c <= '\\u0C7F' for c in s): return \"te\"\n",
    "    return \"en\"\n",
    "\n",
    "def ollama_model_available(name: str, base: str=\"http://localhost:11434\") -> bool:\n",
    "    try:\n",
    "        r = requests.get(f\"{base}/api/tags\", timeout=3)\n",
    "        r.raise_for_status()\n",
    "        tags = r.json().get(\"models\", [])\n",
    "        return any(m.get(\"name\")==name for m in tags)\n",
    "    except Exception:\n",
    "        return False\n",
    "\n",
    "PROMPT_BASE = (\n",
    "    \"You are a medical text cleaner.\\n\"\n",
    "    \"Fix OCR/spelling without changing facts. Preserve all medical terms, abbreviations, and numbers.\"\n",
    "    \"{note}\\n\\nText:\\n{t}\"\n",
    ")\n",
    "prompt_template = PromptTemplate.from_template(PROMPT_BASE)\n",
    "fmt = StrOutputParser()\n",
    "\n",
    "def make_llm(name: str):\n",
    "    try:\n",
    "        return ChatOllama(model=name, temperature=0, model_kwargs={\"keep_alive\":0})\n",
    "    except Exception as e:\n",
    "        print(f\"[WARN] Could not init LLM '{name}':\", e)\n",
    "        return None\n",
    "\n",
    "def run_with_timeout(fn, *args, timeout_s=40, **kw):\n",
    "    with concurrent.futures.ThreadPoolExecutor(max_workers=1) as ex:\n",
    "        fut = ex.submit(fn, *args, **kw)\n",
    "        return fut.result(timeout=timeout_s)\n",
    "\n",
    "def llm_clean(chain, payload: dict, fallback_chain=None, timeout_s=40) -> str:\n",
    "    try:\n",
    "        out = run_with_timeout(chain.invoke, payload, timeout_s, {})\n",
    "        return (out or \"\").strip()\n",
    "    except Exception:\n",
    "        if fallback_chain:\n",
    "            try:\n",
    "                out = run_with_timeout(fallback_chain.invoke, payload, timeout_s, {})\n",
    "                return (out or \"\").strip()\n",
    "            except Exception:\n",
    "                return \"\"\n",
    "        return \"\"\n"
   ]
  },
  {
   "cell_type": "code",
   "execution_count": 13,
   "id": "0ad2bdca",
   "metadata": {},
   "outputs": [],
   "source": [
    "\n",
    "def should_cleanup(t: str) -> bool:\n",
    "    if not t or not t.strip(): return False\n",
    "    t=t.strip()\n",
    "    noisy = [\"@@\",\"##\",\"| |\",\"¢\",\"§\",\"�\",\"~~\",\"==\",\"… …\",\"||\",\"— —\"]\n",
    "    if any(x in t for x in noisy): return True\n",
    "    # NEW: trigger on mixed-caps OCR-ish patterns / suspicious punctuation clusters\n",
    "    if re.search(r\"[A-Za-z]\\d[A-Za-z]|\\b[l1I]{3,}\\b|[.,;:]{3,}\", t): return True\n",
    "    # Short unpunctuated lines (labels/headers) get normalized too\n",
    "    if len(t) < 25 and not re.search(r\"[.!?]$\", t): return True\n",
    "    return False\n",
    "\n",
    "def digits_pattern(s: str):\n",
    "    return re.findall(r\"\\d+(?:\\.\\d+)?\", s or \"\")\n",
    "\n",
    "def choose_text(orig: str, cleaned02a: str|None, llm_out: str|None):\n",
    "    candidates = [(\"orig\", orig)]\n",
    "    if cleaned02a and cleaned02a.strip(): candidates.append((\"02a\", cleaned02a))\n",
    "    if llm_out and llm_out.strip():       candidates.append((\"llm\", llm_out))\n",
    "    base = orig or \"\"\n",
    "    def score(v: str):\n",
    "        sim = difflib.SequenceMatcher(None, base, v).ratio()\n",
    "        nums_ok = digits_pattern(base) == digits_pattern(v)\n",
    "        len_ratio = (len(v)+1)/(len(base)+1) if base else 1.0\n",
    "        len_penalty = 0.0 if 0.5 <= len_ratio <= 1.5 else 0.1\n",
    "        return (nums_ok, round(sim - len_penalty, 4))\n",
    "    return max(candidates, key=lambda kv: score(kv[1]))\n"
   ]
  },
  {
   "cell_type": "code",
   "execution_count": 14,
   "id": "e6caa392",
   "metadata": {},
   "outputs": [
    {
     "name": "stdout",
     "output_type": "stream",
     "text": [
      "[INFO] Primary model available: alibayram/medgemma:latest → True\n",
      "[INFO] Fallback model available: mistral:7b → True\n"
     ]
    }
   ],
   "source": [
    "\n",
    "primary_ok = ollama_model_available(model)\n",
    "fallback_ok = ollama_model_available(fallback_model) if fallback_model else False\n",
    "print(f\"[INFO] Primary model available: {model} → {primary_ok}\")\n",
    "print(f\"[INFO] Fallback model available: {fallback_model} → {fallback_ok}\")\n",
    "\n",
    "llm = make_llm(model) if primary_ok else None\n",
    "fallback_llm = make_llm(fallback_model) if fallback_ok else None\n",
    "primary_chain = prompt_template | llm | fmt if llm else None\n",
    "fallback_chain = prompt_template | fallback_llm | fmt if fallback_llm else None\n"
   ]
  },
  {
   "cell_type": "code",
   "execution_count": 15,
   "id": "137a4610",
   "metadata": {},
   "outputs": [
    {
     "name": "stdout",
     "output_type": "stream",
     "text": [
      "[INFO] Starting LLM cleanup...\n",
      "✓ page_001_blocks.domain.json: touched=0/8 avg_edit=1.0 kept={'orig': 8}\n",
      "✓ page_002_blocks.domain.json: touched=0/12 avg_edit=1.0 kept={'orig': 12}\n",
      "✓ page_003_blocks.domain.json: touched=0/8 avg_edit=1.0 kept={'orig': 8}\n",
      "✓ page_004_blocks.domain.json: touched=0/9 avg_edit=1.0 kept={'orig': 9}\n",
      "\n",
      "=== Run Summary ===\n",
      "page_001_blocks.domain.json: touched=0/8 avg_edit=1.0 kept={'orig': 8}\n",
      "page_002_blocks.domain.json: touched=0/12 avg_edit=1.0 kept={'orig': 12}\n",
      "page_003_blocks.domain.json: touched=0/8 avg_edit=1.0 kept={'orig': 8}\n",
      "page_004_blocks.domain.json: touched=0/9 avg_edit=1.0 kept={'orig': 9}\n",
      "\n",
      "✅ LLM cleanup complete → /Users/balijepalli/Documents/GitHub/entheory-ai/notebooks/outputs/run_001/03_llmcleaned\n"
     ]
    }
   ],
   "source": [
    "\n",
    "print(\"[INFO] Starting LLM cleanup...\")\n",
    "global_budget = int(max_cleanups)\n",
    "touched_total = 0\n",
    "run_stats = []\n",
    "\n",
    "for f in files:\n",
    "    if global_budget <= 0:\n",
    "        print(\"[INFO] Global budget exhausted; stopping.\")\n",
    "        break\n",
    "    blocks = json.loads(f.read_text(encoding=\"utf-8\"))\n",
    "    cleaned, n_done = [], 0\n",
    "    kept_counter = Counter()\n",
    "    edit_ratios = []\n",
    "    for idx, b in enumerate(blocks):\n",
    "        orig = (b.get(\"text\") or \"\").strip()\n",
    "        cleaned02a = (b.get(\"text_cleaned\") or \"\").strip() if isinstance(b.get(\"text_cleaned\"), str) else \"\"\n",
    "        llm_out = \"\"\n",
    "        do_llm = (primary_chain or fallback_chain) and global_budget>0 and n_done < int(per_file_cap) and should_cleanup(orig)\n",
    "        if do_llm:\n",
    "            lang = detect_lang_tag(orig)\n",
    "            note = \"\\nNote: Text may include Indic script. Preserve non-English words exactly.\" if lang in (\"hi\",\"te\") else \"\"\n",
    "            payload = {\"t\": orig, \"note\": note}\n",
    "            out = llm_clean(primary_chain, payload, fallback_chain=fallback_chain, timeout_s=int(timeout_seconds))\n",
    "            if out.startswith(\"```\"):\n",
    "                out = re.sub(r\"^```(?:json)?\\s*\", \"\", out).strip()\n",
    "                out = re.sub(r\"\\s*```$\", \"\", out).strip()\n",
    "            llm_out = out\n",
    "            if llm_out:\n",
    "                n_done += 1\n",
    "                global_budget -= 1\n",
    "                if n_done % int(print_every) == 0:\n",
    "                    print(f\"[{f.name}] LLM cleaned {n_done} blocks so far...\")\n",
    "        label, chosen = choose_text(orig, cleaned02a, llm_out)\n",
    "        kept_counter[label] += 1\n",
    "        if orig:\n",
    "            edit_ratios.append(difflib.SequenceMatcher(None, orig, chosen).ratio())\n",
    "        nb = dict(b)\n",
    "        nb.setdefault(\"text_orig\", orig)\n",
    "        if cleaned02a:\n",
    "            nb[\"text_cleaned\"] = cleaned02a\n",
    "        if llm_out:\n",
    "            nb[\"text_llm\"] = llm_out\n",
    "        nb[\"text_final\"] = chosen\n",
    "        cleaned.append(nb)\n",
    "    out_file = output_dir / f\"{f.stem}.llm.json\"\n",
    "    out_file.write_text(json.dumps(cleaned, ensure_ascii=False, indent=2), encoding=\"utf-8\")\n",
    "    stats = {\n",
    "        \"file\": f.name,\n",
    "        \"blocks_total\": len(blocks),\n",
    "        \"blocks_llm_touched\": n_done,\n",
    "        \"avg_edit_ratio_vs_orig\": round(sum(edit_ratios)/max(1,len(edit_ratios)), 4),\n",
    "        \"kept_version_counts\": dict(kept_counter),\n",
    "        \"budget_remaining\": global_budget\n",
    "    }\n",
    "    run_stats.append(stats)\n",
    "    print(f\"✓ {f.name}: touched={n_done}/{len(blocks)} avg_edit={stats['avg_edit_ratio_vs_orig']} kept={dict(kept_counter)}\")\n",
    "\n",
    "summary_path = output_dir / \"_run_summary.json\"\n",
    "summary_path.write_text(json.dumps(run_stats, indent=2), encoding=\"utf-8\")\n",
    "print(\"\\n=== Run Summary ===\")\n",
    "for s in run_stats:\n",
    "    print(f\"{s['file']}: touched={s['blocks_llm_touched']}/{s['blocks_total']} avg_edit={s['avg_edit_ratio_vs_orig']} kept={s['kept_version_counts']}\")\n",
    "print(\"\\n✅ LLM cleanup complete →\", output_dir)\n"
   ]
  },
  {
   "cell_type": "code",
   "execution_count": 16,
   "id": "2d14e360",
   "metadata": {},
   "outputs": [
    {
     "name": "stdout",
     "output_type": "stream",
     "text": [
      "Saved QA plot → outputs/run_001/03_llmcleaned/_qa_llmcleanup_summary.png\n"
     ]
    },
    {
     "data": {
      "image/png": "[encoded data removed]",
      "text/plain": [
       "<Figure size 600x300 with 2 Axes>"
      ]
     },
     "metadata": {},
     "output_type": "display_data"
    }
   ],
   "source": [
    "import matplotlib.pyplot as plt\n",
    "import pandas as pd\n",
    "import json, math\n",
    "from pathlib import Path\n",
    "\n",
    "run_dir = Path(\"outputs/run_001/03_llmcleaned\")\n",
    "stats = []\n",
    "for f in sorted(run_dir.glob(\"page_*_*.json\")):\n",
    "    data = json.loads(f.read_text())\n",
    "    touched = sum(1 for b in data if \"text_llm\" in b)\n",
    "    total = len(data)\n",
    "    avg_edit = round(sum(\n",
    "        difflib.SequenceMatcher(None, b.get(\"text\",\"\"), b.get(\"text_llm\",b.get(\"text\",\"\"))).ratio()\n",
    "        for b in data\n",
    "    )/total, 4) if total else 0\n",
    "    stats.append({\"page\": f.stem, \"touched\": touched, \"total\": total, \"avg_edit\": avg_edit})\n",
    "df = pd.DataFrame(stats)\n",
    "\n",
    "fig, ax = plt.subplots(figsize=(6,3))\n",
    "ax.bar(df[\"page\"], df[\"touched\"], color=\"lightgreen\")\n",
    "ax2 = ax.twinx()\n",
    "ax2.plot(df[\"page\"], df[\"avg_edit\"], color=\"orange\", marker=\"o\")\n",
    "ax.set_ylabel(\"#Blocks cleaned\")\n",
    "ax2.set_ylabel(\"Avg. edit similarity\")\n",
    "plt.title(\"LLM Cleanup QA Overview\")\n",
    "plt.xticks(rotation=45)\n",
    "plt.tight_layout()\n",
    "plt.savefig(run_dir/\"_qa_llmcleanup_summary.png\", dpi=150)\n",
    "print(\"Saved QA plot →\", run_dir/\"_qa_llmcleanup_summary.png\")\n"
   ]
  }
 ],
 "metadata": {
  "kernelspec": {
   "display_name": "Python (rxetl)",
   "language": "python",
   "name": "rxetl"
  },
  "language_info": {
   "codemirror_mode": {
    "name": "ipython",
    "version": 3
   },
   "file_extension": ".py",
   "mimetype": "text/x-python",
   "name": "python",
   "nbconvert_exporter": "python",
   "pygments_lexer": "ipython3",
   "version": "3.10.18"
  }
 },
 "nbformat": 4,
 "nbformat_minor": 5
}
